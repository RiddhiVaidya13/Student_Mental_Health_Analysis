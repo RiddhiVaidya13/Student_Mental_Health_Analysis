{
 "cells": [
  {
   "cell_type": "markdown",
   "id": "96da5878-948f-49df-b832-f6d5f679b0ea",
   "metadata": {},
   "source": [
    "### Problem Statement\n",
    "\n",
    "The primary objective is to analyze how online learning environments impact student mental health. By exploring various factors such as academic pressure, social isolation, and lifestyle changes, the dataset seeks to uncover patterns and correlations that can inform interventions and support mechanisms for students facing mental health challenges."
   ]
  },
  {
   "cell_type": "markdown",
   "id": "2a58329f-2c6b-44b6-ae79-b0d52a775831",
   "metadata": {},
   "source": [
    "### Column Description\n",
    "\n",
    "Name Student's first name (non-essential for analysis; can be anonymized)\n",
    "\n",
    " Gender Gender of the respondent (Male/Female)\n",
    "\n",
    " Age Age in years\n",
    "\n",
    " Education Level Academic level (e.g., Class 8, BTech, MSc)\n",
    "\n",
    " Screen Time (hrs/day) Average screen time per day during online learning\n",
    "\n",
    " Sleep Duration (hrs) Average daily sleep duration\n",
    "\n",
    "Physical Activity (hrs/week) Weekly exercise time\n",
    "\n",
    " Stress Level Reported stress level (Low, Medium, High)\n",
    "\n",
    " Anxious Before Exams Whether the student feels anxious before exams (Yes/No)\n",
    "\n",
    " Academic Performance Change Self-assessed change in academic performance"
   ]
  },
  {
   "cell_type": "code",
   "execution_count": 51,
   "id": "672993e7-f899-4e04-9c27-8827fe8d4c4d",
   "metadata": {},
   "outputs": [],
   "source": [
    "import pandas as pd \n",
    "import numpy as np\n",
    "import matplotlib.pyplot as plt\n",
    "import seaborn as sns\n",
    "import warnings \n",
    "warnings.filterwarnings('ignore')\n",
    "import datetime as dt\n",
    "from sklearn.model_selection import train_test_split\n",
    "from sklearn.linear_model import LinearRegression\n",
    "from sklearn.metrics import r2_score\n",
    "from sklearn.ensemble import RandomForestClassifier\n",
    "from sklearn.metrics import accuracy_score, classification_report\n",
    "from sklearn.tree import DecisionTreeClassifier\n",
    "from sklearn.metrics import classification_report, accuracy_score\n",
    "from sklearn.metrics import classification_report\n",
    "from xgboost import XGBClassifier"
   ]
  },
  {
   "cell_type": "code",
   "execution_count": 52,
   "id": "2f94b945-986a-4ef2-942b-cf7e0c021e9c",
   "metadata": {},
   "outputs": [],
   "source": [
    "df = pd.read_csv('C:\\\\Users\\\\riddh\\\\Downloads\\\\Student Mental Health Analysis During Online Learning.csv')"
   ]
  },
  {
   "cell_type": "code",
   "execution_count": 53,
   "id": "cf74eaaf-aecf-42fb-b450-cbc8174fc71f",
   "metadata": {},
   "outputs": [
    {
     "data": {
      "text/html": [
       "<div>\n",
       "<style scoped>\n",
       "    .dataframe tbody tr th:only-of-type {\n",
       "        vertical-align: middle;\n",
       "    }\n",
       "\n",
       "    .dataframe tbody tr th {\n",
       "        vertical-align: top;\n",
       "    }\n",
       "\n",
       "    .dataframe thead th {\n",
       "        text-align: right;\n",
       "    }\n",
       "</style>\n",
       "<table border=\"1\" class=\"dataframe\">\n",
       "  <thead>\n",
       "    <tr style=\"text-align: right;\">\n",
       "      <th></th>\n",
       "      <th>Name</th>\n",
       "      <th>Gender</th>\n",
       "      <th>Age</th>\n",
       "      <th>Education Level</th>\n",
       "      <th>Screen Time (hrs/day)</th>\n",
       "      <th>Sleep Duration (hrs)</th>\n",
       "      <th>Physical Activity (hrs/week)</th>\n",
       "      <th>Stress Level</th>\n",
       "      <th>Anxious Before Exams</th>\n",
       "      <th>Academic Performance Change</th>\n",
       "    </tr>\n",
       "  </thead>\n",
       "  <tbody>\n",
       "    <tr>\n",
       "      <th>0</th>\n",
       "      <td>Aarav</td>\n",
       "      <td>Male</td>\n",
       "      <td>15</td>\n",
       "      <td>Class 8</td>\n",
       "      <td>7.1</td>\n",
       "      <td>8.9</td>\n",
       "      <td>9.3</td>\n",
       "      <td>Medium</td>\n",
       "      <td>No</td>\n",
       "      <td>Same</td>\n",
       "    </tr>\n",
       "    <tr>\n",
       "      <th>1</th>\n",
       "      <td>Meera</td>\n",
       "      <td>Female</td>\n",
       "      <td>25</td>\n",
       "      <td>MSc</td>\n",
       "      <td>3.3</td>\n",
       "      <td>5.0</td>\n",
       "      <td>0.2</td>\n",
       "      <td>Medium</td>\n",
       "      <td>No</td>\n",
       "      <td>Same</td>\n",
       "    </tr>\n",
       "    <tr>\n",
       "      <th>2</th>\n",
       "      <td>Ishaan</td>\n",
       "      <td>Male</td>\n",
       "      <td>20</td>\n",
       "      <td>BTech</td>\n",
       "      <td>9.5</td>\n",
       "      <td>5.4</td>\n",
       "      <td>6.2</td>\n",
       "      <td>Medium</td>\n",
       "      <td>No</td>\n",
       "      <td>Same</td>\n",
       "    </tr>\n",
       "    <tr>\n",
       "      <th>3</th>\n",
       "      <td>Aditya</td>\n",
       "      <td>Male</td>\n",
       "      <td>20</td>\n",
       "      <td>BA</td>\n",
       "      <td>10.8</td>\n",
       "      <td>5.6</td>\n",
       "      <td>5.5</td>\n",
       "      <td>High</td>\n",
       "      <td>Yes</td>\n",
       "      <td>Same</td>\n",
       "    </tr>\n",
       "    <tr>\n",
       "      <th>4</th>\n",
       "      <td>Anika</td>\n",
       "      <td>Female</td>\n",
       "      <td>17</td>\n",
       "      <td>Class 11</td>\n",
       "      <td>2.8</td>\n",
       "      <td>5.4</td>\n",
       "      <td>3.1</td>\n",
       "      <td>Medium</td>\n",
       "      <td>Yes</td>\n",
       "      <td>Same</td>\n",
       "    </tr>\n",
       "    <tr>\n",
       "      <th>...</th>\n",
       "      <td>...</td>\n",
       "      <td>...</td>\n",
       "      <td>...</td>\n",
       "      <td>...</td>\n",
       "      <td>...</td>\n",
       "      <td>...</td>\n",
       "      <td>...</td>\n",
       "      <td>...</td>\n",
       "      <td>...</td>\n",
       "      <td>...</td>\n",
       "    </tr>\n",
       "    <tr>\n",
       "      <th>995</th>\n",
       "      <td>Diya</td>\n",
       "      <td>Female</td>\n",
       "      <td>26</td>\n",
       "      <td>MA</td>\n",
       "      <td>11.3</td>\n",
       "      <td>6.8</td>\n",
       "      <td>9.1</td>\n",
       "      <td>Medium</td>\n",
       "      <td>No</td>\n",
       "      <td>Same</td>\n",
       "    </tr>\n",
       "    <tr>\n",
       "      <th>996</th>\n",
       "      <td>Aarav</td>\n",
       "      <td>Male</td>\n",
       "      <td>20</td>\n",
       "      <td>BTech</td>\n",
       "      <td>5.5</td>\n",
       "      <td>6.7</td>\n",
       "      <td>6.8</td>\n",
       "      <td>Low</td>\n",
       "      <td>Yes</td>\n",
       "      <td>Same</td>\n",
       "    </tr>\n",
       "    <tr>\n",
       "      <th>997</th>\n",
       "      <td>Myra</td>\n",
       "      <td>Female</td>\n",
       "      <td>15</td>\n",
       "      <td>Class 9</td>\n",
       "      <td>7.1</td>\n",
       "      <td>4.1</td>\n",
       "      <td>1.9</td>\n",
       "      <td>Low</td>\n",
       "      <td>Yes</td>\n",
       "      <td>Declined</td>\n",
       "    </tr>\n",
       "    <tr>\n",
       "      <th>998</th>\n",
       "      <td>Myra</td>\n",
       "      <td>Female</td>\n",
       "      <td>20</td>\n",
       "      <td>BA</td>\n",
       "      <td>4.4</td>\n",
       "      <td>7.5</td>\n",
       "      <td>4.5</td>\n",
       "      <td>Medium</td>\n",
       "      <td>No</td>\n",
       "      <td>Improved</td>\n",
       "    </tr>\n",
       "    <tr>\n",
       "      <th>999</th>\n",
       "      <td>Vihaan</td>\n",
       "      <td>Male</td>\n",
       "      <td>23</td>\n",
       "      <td>MA</td>\n",
       "      <td>10.8</td>\n",
       "      <td>7.7</td>\n",
       "      <td>3.6</td>\n",
       "      <td>Low</td>\n",
       "      <td>No</td>\n",
       "      <td>Improved</td>\n",
       "    </tr>\n",
       "  </tbody>\n",
       "</table>\n",
       "<p>1000 rows × 10 columns</p>\n",
       "</div>"
      ],
      "text/plain": [
       "       Name  Gender  Age Education Level  Screen Time (hrs/day)  \\\n",
       "0     Aarav    Male   15         Class 8                    7.1   \n",
       "1     Meera  Female   25             MSc                    3.3   \n",
       "2    Ishaan    Male   20           BTech                    9.5   \n",
       "3    Aditya    Male   20              BA                   10.8   \n",
       "4     Anika  Female   17        Class 11                    2.8   \n",
       "..      ...     ...  ...             ...                    ...   \n",
       "995    Diya  Female   26              MA                   11.3   \n",
       "996   Aarav    Male   20           BTech                    5.5   \n",
       "997    Myra  Female   15         Class 9                    7.1   \n",
       "998    Myra  Female   20              BA                    4.4   \n",
       "999  Vihaan    Male   23              MA                   10.8   \n",
       "\n",
       "     Sleep Duration (hrs)  Physical Activity (hrs/week) Stress Level  \\\n",
       "0                     8.9                           9.3       Medium   \n",
       "1                     5.0                           0.2       Medium   \n",
       "2                     5.4                           6.2       Medium   \n",
       "3                     5.6                           5.5         High   \n",
       "4                     5.4                           3.1       Medium   \n",
       "..                    ...                           ...          ...   \n",
       "995                   6.8                           9.1       Medium   \n",
       "996                   6.7                           6.8          Low   \n",
       "997                   4.1                           1.9          Low   \n",
       "998                   7.5                           4.5       Medium   \n",
       "999                   7.7                           3.6          Low   \n",
       "\n",
       "    Anxious Before Exams Academic Performance Change  \n",
       "0                     No                        Same  \n",
       "1                     No                        Same  \n",
       "2                     No                        Same  \n",
       "3                    Yes                        Same  \n",
       "4                    Yes                        Same  \n",
       "..                   ...                         ...  \n",
       "995                   No                        Same  \n",
       "996                  Yes                        Same  \n",
       "997                  Yes                    Declined  \n",
       "998                   No                    Improved  \n",
       "999                   No                    Improved  \n",
       "\n",
       "[1000 rows x 10 columns]"
      ]
     },
     "execution_count": 53,
     "metadata": {},
     "output_type": "execute_result"
    }
   ],
   "source": [
    "df"
   ]
  },
  {
   "cell_type": "code",
   "execution_count": 29,
   "id": "f3c57cbf-7867-4e14-aa40-17def846e9ce",
   "metadata": {},
   "outputs": [
    {
     "data": {
      "text/plain": [
       "(1000, 10)"
      ]
     },
     "execution_count": 29,
     "metadata": {},
     "output_type": "execute_result"
    }
   ],
   "source": [
    "df.shape"
   ]
  },
  {
   "cell_type": "code",
   "execution_count": 30,
   "id": "57783db5-14f5-4bec-86f7-35a144a081b6",
   "metadata": {},
   "outputs": [
    {
     "data": {
      "text/plain": [
       "Index(['Name', 'Gender', 'Age', 'Education Level', 'Screen Time (hrs/day)',\n",
       "       'Sleep Duration (hrs)', 'Physical Activity (hrs/week)', 'Stress Level',\n",
       "       'Anxious Before Exams', 'Academic Performance Change'],\n",
       "      dtype='object')"
      ]
     },
     "execution_count": 30,
     "metadata": {},
     "output_type": "execute_result"
    }
   ],
   "source": [
    "df.columns"
   ]
  },
  {
   "cell_type": "code",
   "execution_count": 31,
   "id": "6cc8871e-f22b-4913-99cb-13a0de0efb71",
   "metadata": {},
   "outputs": [
    {
     "name": "stdout",
     "output_type": "stream",
     "text": [
      "<class 'pandas.core.frame.DataFrame'>\n",
      "RangeIndex: 1000 entries, 0 to 999\n",
      "Data columns (total 10 columns):\n",
      " #   Column                        Non-Null Count  Dtype  \n",
      "---  ------                        --------------  -----  \n",
      " 0   Name                          1000 non-null   object \n",
      " 1   Gender                        1000 non-null   object \n",
      " 2   Age                           1000 non-null   int64  \n",
      " 3   Education Level               1000 non-null   object \n",
      " 4   Screen Time (hrs/day)         1000 non-null   float64\n",
      " 5   Sleep Duration (hrs)          1000 non-null   float64\n",
      " 6   Physical Activity (hrs/week)  1000 non-null   float64\n",
      " 7   Stress Level                  1000 non-null   object \n",
      " 8   Anxious Before Exams          1000 non-null   object \n",
      " 9   Academic Performance Change   1000 non-null   object \n",
      "dtypes: float64(3), int64(1), object(6)\n",
      "memory usage: 78.3+ KB\n"
     ]
    }
   ],
   "source": [
    "df.info()"
   ]
  },
  {
   "cell_type": "code",
   "execution_count": 32,
   "id": "df0e5c15-b27c-464b-a18b-9834048212f9",
   "metadata": {},
   "outputs": [
    {
     "data": {
      "text/plain": [
       "Name                            0\n",
       "Gender                          0\n",
       "Age                             0\n",
       "Education Level                 0\n",
       "Screen Time (hrs/day)           0\n",
       "Sleep Duration (hrs)            0\n",
       "Physical Activity (hrs/week)    0\n",
       "Stress Level                    0\n",
       "Anxious Before Exams            0\n",
       "Academic Performance Change     0\n",
       "dtype: int64"
      ]
     },
     "execution_count": 32,
     "metadata": {},
     "output_type": "execute_result"
    }
   ],
   "source": [
    "df.isna().sum()"
   ]
  },
  {
   "cell_type": "code",
   "execution_count": 33,
   "id": "9968bdac-76bc-4f07-936e-d25e362706f3",
   "metadata": {},
   "outputs": [
    {
     "data": {
      "text/plain": [
       "np.int64(0)"
      ]
     },
     "execution_count": 33,
     "metadata": {},
     "output_type": "execute_result"
    }
   ],
   "source": [
    "df.duplicated().sum()"
   ]
  },
  {
   "cell_type": "code",
   "execution_count": 34,
   "id": "8fdbcf92-0cb8-4889-9124-410ad5ef4c35",
   "metadata": {},
   "outputs": [
    {
     "data": {
      "text/html": [
       "<div>\n",
       "<style scoped>\n",
       "    .dataframe tbody tr th:only-of-type {\n",
       "        vertical-align: middle;\n",
       "    }\n",
       "\n",
       "    .dataframe tbody tr th {\n",
       "        vertical-align: top;\n",
       "    }\n",
       "\n",
       "    .dataframe thead th {\n",
       "        text-align: right;\n",
       "    }\n",
       "</style>\n",
       "<table border=\"1\" class=\"dataframe\">\n",
       "  <thead>\n",
       "    <tr style=\"text-align: right;\">\n",
       "      <th></th>\n",
       "      <th>Age</th>\n",
       "      <th>Screen Time (hrs/day)</th>\n",
       "      <th>Sleep Duration (hrs)</th>\n",
       "      <th>Physical Activity (hrs/week)</th>\n",
       "    </tr>\n",
       "  </thead>\n",
       "  <tbody>\n",
       "    <tr>\n",
       "      <th>count</th>\n",
       "      <td>1000.000000</td>\n",
       "      <td>1000.000000</td>\n",
       "      <td>1000.000000</td>\n",
       "      <td>1000.000000</td>\n",
       "    </tr>\n",
       "    <tr>\n",
       "      <th>mean</th>\n",
       "      <td>20.342000</td>\n",
       "      <td>6.909200</td>\n",
       "      <td>6.450800</td>\n",
       "      <td>5.017600</td>\n",
       "    </tr>\n",
       "    <tr>\n",
       "      <th>std</th>\n",
       "      <td>3.459914</td>\n",
       "      <td>2.907106</td>\n",
       "      <td>1.466407</td>\n",
       "      <td>2.930344</td>\n",
       "    </tr>\n",
       "    <tr>\n",
       "      <th>min</th>\n",
       "      <td>15.000000</td>\n",
       "      <td>2.000000</td>\n",
       "      <td>4.000000</td>\n",
       "      <td>0.000000</td>\n",
       "    </tr>\n",
       "    <tr>\n",
       "      <th>25%</th>\n",
       "      <td>17.000000</td>\n",
       "      <td>4.400000</td>\n",
       "      <td>5.100000</td>\n",
       "      <td>2.600000</td>\n",
       "    </tr>\n",
       "    <tr>\n",
       "      <th>50%</th>\n",
       "      <td>20.000000</td>\n",
       "      <td>6.900000</td>\n",
       "      <td>6.500000</td>\n",
       "      <td>5.000000</td>\n",
       "    </tr>\n",
       "    <tr>\n",
       "      <th>75%</th>\n",
       "      <td>23.000000</td>\n",
       "      <td>9.500000</td>\n",
       "      <td>7.700000</td>\n",
       "      <td>7.600000</td>\n",
       "    </tr>\n",
       "    <tr>\n",
       "      <th>max</th>\n",
       "      <td>26.000000</td>\n",
       "      <td>12.000000</td>\n",
       "      <td>9.000000</td>\n",
       "      <td>10.000000</td>\n",
       "    </tr>\n",
       "  </tbody>\n",
       "</table>\n",
       "</div>"
      ],
      "text/plain": [
       "               Age  Screen Time (hrs/day)  Sleep Duration (hrs)  \\\n",
       "count  1000.000000            1000.000000           1000.000000   \n",
       "mean     20.342000               6.909200              6.450800   \n",
       "std       3.459914               2.907106              1.466407   \n",
       "min      15.000000               2.000000              4.000000   \n",
       "25%      17.000000               4.400000              5.100000   \n",
       "50%      20.000000               6.900000              6.500000   \n",
       "75%      23.000000               9.500000              7.700000   \n",
       "max      26.000000              12.000000              9.000000   \n",
       "\n",
       "       Physical Activity (hrs/week)  \n",
       "count                   1000.000000  \n",
       "mean                       5.017600  \n",
       "std                        2.930344  \n",
       "min                        0.000000  \n",
       "25%                        2.600000  \n",
       "50%                        5.000000  \n",
       "75%                        7.600000  \n",
       "max                       10.000000  "
      ]
     },
     "execution_count": 34,
     "metadata": {},
     "output_type": "execute_result"
    }
   ],
   "source": [
    "df.describe()"
   ]
  },
  {
   "cell_type": "code",
   "execution_count": 35,
   "id": "18fa063c-d0c9-4369-940e-59107a6b9db6",
   "metadata": {},
   "outputs": [
    {
     "name": "stdout",
     "output_type": "stream",
     "text": [
      "<class 'pandas.core.frame.DataFrame'>\n",
      "RangeIndex: 1000 entries, 0 to 999\n",
      "Data columns (total 10 columns):\n",
      " #   Column                        Non-Null Count  Dtype  \n",
      "---  ------                        --------------  -----  \n",
      " 0   Name                          1000 non-null   object \n",
      " 1   Gender                        1000 non-null   object \n",
      " 2   Age                           1000 non-null   int64  \n",
      " 3   Education Level               1000 non-null   object \n",
      " 4   Screen Time (hrs/day)         1000 non-null   float64\n",
      " 5   Sleep Duration (hrs)          1000 non-null   float64\n",
      " 6   Physical Activity (hrs/week)  1000 non-null   float64\n",
      " 7   Stress Level                  1000 non-null   object \n",
      " 8   Anxious Before Exams          1000 non-null   object \n",
      " 9   Academic Performance Change   1000 non-null   object \n",
      "dtypes: float64(3), int64(1), object(6)\n",
      "memory usage: 78.3+ KB\n"
     ]
    }
   ],
   "source": [
    "df.info()"
   ]
  },
  {
   "cell_type": "code",
   "execution_count": 36,
   "id": "b5e1ca4c-6e0f-4533-b6a7-a60aae0c56e9",
   "metadata": {},
   "outputs": [
    {
     "data": {
      "text/html": [
       "<div>\n",
       "<style scoped>\n",
       "    .dataframe tbody tr th:only-of-type {\n",
       "        vertical-align: middle;\n",
       "    }\n",
       "\n",
       "    .dataframe tbody tr th {\n",
       "        vertical-align: top;\n",
       "    }\n",
       "\n",
       "    .dataframe thead th {\n",
       "        text-align: right;\n",
       "    }\n",
       "</style>\n",
       "<table border=\"1\" class=\"dataframe\">\n",
       "  <thead>\n",
       "    <tr style=\"text-align: right;\">\n",
       "      <th></th>\n",
       "      <th>Name</th>\n",
       "      <th>Gender</th>\n",
       "      <th>Age</th>\n",
       "      <th>Education Level</th>\n",
       "      <th>Screen Time (hrs/day)</th>\n",
       "      <th>Sleep Duration (hrs)</th>\n",
       "      <th>Physical Activity (hrs/week)</th>\n",
       "      <th>Stress Level</th>\n",
       "      <th>Anxious Before Exams</th>\n",
       "      <th>Academic Performance Change</th>\n",
       "    </tr>\n",
       "  </thead>\n",
       "  <tbody>\n",
       "    <tr>\n",
       "      <th>0</th>\n",
       "      <td>Aarav</td>\n",
       "      <td>Male</td>\n",
       "      <td>15</td>\n",
       "      <td>Class 8</td>\n",
       "      <td>7.1</td>\n",
       "      <td>8.9</td>\n",
       "      <td>9.3</td>\n",
       "      <td>Medium</td>\n",
       "      <td>No</td>\n",
       "      <td>Same</td>\n",
       "    </tr>\n",
       "    <tr>\n",
       "      <th>1</th>\n",
       "      <td>Meera</td>\n",
       "      <td>Female</td>\n",
       "      <td>25</td>\n",
       "      <td>MSc</td>\n",
       "      <td>3.3</td>\n",
       "      <td>5.0</td>\n",
       "      <td>0.2</td>\n",
       "      <td>Medium</td>\n",
       "      <td>No</td>\n",
       "      <td>Same</td>\n",
       "    </tr>\n",
       "    <tr>\n",
       "      <th>2</th>\n",
       "      <td>Ishaan</td>\n",
       "      <td>Male</td>\n",
       "      <td>20</td>\n",
       "      <td>BTech</td>\n",
       "      <td>9.5</td>\n",
       "      <td>5.4</td>\n",
       "      <td>6.2</td>\n",
       "      <td>Medium</td>\n",
       "      <td>No</td>\n",
       "      <td>Same</td>\n",
       "    </tr>\n",
       "    <tr>\n",
       "      <th>3</th>\n",
       "      <td>Aditya</td>\n",
       "      <td>Male</td>\n",
       "      <td>20</td>\n",
       "      <td>BA</td>\n",
       "      <td>10.8</td>\n",
       "      <td>5.6</td>\n",
       "      <td>5.5</td>\n",
       "      <td>High</td>\n",
       "      <td>Yes</td>\n",
       "      <td>Same</td>\n",
       "    </tr>\n",
       "    <tr>\n",
       "      <th>4</th>\n",
       "      <td>Anika</td>\n",
       "      <td>Female</td>\n",
       "      <td>17</td>\n",
       "      <td>Class 11</td>\n",
       "      <td>2.8</td>\n",
       "      <td>5.4</td>\n",
       "      <td>3.1</td>\n",
       "      <td>Medium</td>\n",
       "      <td>Yes</td>\n",
       "      <td>Same</td>\n",
       "    </tr>\n",
       "  </tbody>\n",
       "</table>\n",
       "</div>"
      ],
      "text/plain": [
       "     Name  Gender  Age Education Level  Screen Time (hrs/day)  \\\n",
       "0   Aarav    Male   15         Class 8                    7.1   \n",
       "1   Meera  Female   25             MSc                    3.3   \n",
       "2  Ishaan    Male   20           BTech                    9.5   \n",
       "3  Aditya    Male   20              BA                   10.8   \n",
       "4   Anika  Female   17        Class 11                    2.8   \n",
       "\n",
       "   Sleep Duration (hrs)  Physical Activity (hrs/week) Stress Level  \\\n",
       "0                   8.9                           9.3       Medium   \n",
       "1                   5.0                           0.2       Medium   \n",
       "2                   5.4                           6.2       Medium   \n",
       "3                   5.6                           5.5         High   \n",
       "4                   5.4                           3.1       Medium   \n",
       "\n",
       "  Anxious Before Exams Academic Performance Change  \n",
       "0                   No                        Same  \n",
       "1                   No                        Same  \n",
       "2                   No                        Same  \n",
       "3                  Yes                        Same  \n",
       "4                  Yes                        Same  "
      ]
     },
     "execution_count": 36,
     "metadata": {},
     "output_type": "execute_result"
    }
   ],
   "source": [
    "df.head()"
   ]
  },
  {
   "cell_type": "code",
   "execution_count": 37,
   "id": "9e4040ed-df02-4b84-b3f5-1fe16ce88048",
   "metadata": {},
   "outputs": [
    {
     "data": {
      "text/plain": [
       "(1000, 10)"
      ]
     },
     "execution_count": 37,
     "metadata": {},
     "output_type": "execute_result"
    }
   ],
   "source": [
    "df.shape"
   ]
  },
  {
   "cell_type": "markdown",
   "id": "7a141fca-6304-45a9-a655-968bf6919de0",
   "metadata": {},
   "source": [
    "### Finding Outliers"
   ]
  },
  {
   "cell_type": "code",
   "execution_count": 14,
   "id": "35616d60-e4a4-4657-b708-ac648b1e3c6e",
   "metadata": {},
   "outputs": [
    {
     "data": {
      "text/html": [
       "<div>\n",
       "<style scoped>\n",
       "    .dataframe tbody tr th:only-of-type {\n",
       "        vertical-align: middle;\n",
       "    }\n",
       "\n",
       "    .dataframe tbody tr th {\n",
       "        vertical-align: top;\n",
       "    }\n",
       "\n",
       "    .dataframe thead th {\n",
       "        text-align: right;\n",
       "    }\n",
       "</style>\n",
       "<table border=\"1\" class=\"dataframe\">\n",
       "  <thead>\n",
       "    <tr style=\"text-align: right;\">\n",
       "      <th></th>\n",
       "      <th>Age</th>\n",
       "      <th>Screen Time (hrs/day)</th>\n",
       "      <th>Sleep Duration (hrs)</th>\n",
       "      <th>Physical Activity (hrs/week)</th>\n",
       "    </tr>\n",
       "  </thead>\n",
       "  <tbody>\n",
       "    <tr>\n",
       "      <th>0</th>\n",
       "      <td>15</td>\n",
       "      <td>7.1</td>\n",
       "      <td>8.9</td>\n",
       "      <td>9.3</td>\n",
       "    </tr>\n",
       "    <tr>\n",
       "      <th>1</th>\n",
       "      <td>25</td>\n",
       "      <td>3.3</td>\n",
       "      <td>5.0</td>\n",
       "      <td>0.2</td>\n",
       "    </tr>\n",
       "    <tr>\n",
       "      <th>2</th>\n",
       "      <td>20</td>\n",
       "      <td>9.5</td>\n",
       "      <td>5.4</td>\n",
       "      <td>6.2</td>\n",
       "    </tr>\n",
       "    <tr>\n",
       "      <th>3</th>\n",
       "      <td>20</td>\n",
       "      <td>10.8</td>\n",
       "      <td>5.6</td>\n",
       "      <td>5.5</td>\n",
       "    </tr>\n",
       "    <tr>\n",
       "      <th>4</th>\n",
       "      <td>17</td>\n",
       "      <td>2.8</td>\n",
       "      <td>5.4</td>\n",
       "      <td>3.1</td>\n",
       "    </tr>\n",
       "    <tr>\n",
       "      <th>...</th>\n",
       "      <td>...</td>\n",
       "      <td>...</td>\n",
       "      <td>...</td>\n",
       "      <td>...</td>\n",
       "    </tr>\n",
       "    <tr>\n",
       "      <th>995</th>\n",
       "      <td>26</td>\n",
       "      <td>11.3</td>\n",
       "      <td>6.8</td>\n",
       "      <td>9.1</td>\n",
       "    </tr>\n",
       "    <tr>\n",
       "      <th>996</th>\n",
       "      <td>20</td>\n",
       "      <td>5.5</td>\n",
       "      <td>6.7</td>\n",
       "      <td>6.8</td>\n",
       "    </tr>\n",
       "    <tr>\n",
       "      <th>997</th>\n",
       "      <td>15</td>\n",
       "      <td>7.1</td>\n",
       "      <td>4.1</td>\n",
       "      <td>1.9</td>\n",
       "    </tr>\n",
       "    <tr>\n",
       "      <th>998</th>\n",
       "      <td>20</td>\n",
       "      <td>4.4</td>\n",
       "      <td>7.5</td>\n",
       "      <td>4.5</td>\n",
       "    </tr>\n",
       "    <tr>\n",
       "      <th>999</th>\n",
       "      <td>23</td>\n",
       "      <td>10.8</td>\n",
       "      <td>7.7</td>\n",
       "      <td>3.6</td>\n",
       "    </tr>\n",
       "  </tbody>\n",
       "</table>\n",
       "<p>1000 rows × 4 columns</p>\n",
       "</div>"
      ],
      "text/plain": [
       "     Age  Screen Time (hrs/day)  Sleep Duration (hrs)  \\\n",
       "0     15                    7.1                   8.9   \n",
       "1     25                    3.3                   5.0   \n",
       "2     20                    9.5                   5.4   \n",
       "3     20                   10.8                   5.6   \n",
       "4     17                    2.8                   5.4   \n",
       "..   ...                    ...                   ...   \n",
       "995   26                   11.3                   6.8   \n",
       "996   20                    5.5                   6.7   \n",
       "997   15                    7.1                   4.1   \n",
       "998   20                    4.4                   7.5   \n",
       "999   23                   10.8                   7.7   \n",
       "\n",
       "     Physical Activity (hrs/week)  \n",
       "0                             9.3  \n",
       "1                             0.2  \n",
       "2                             6.2  \n",
       "3                             5.5  \n",
       "4                             3.1  \n",
       "..                            ...  \n",
       "995                           9.1  \n",
       "996                           6.8  \n",
       "997                           1.9  \n",
       "998                           4.5  \n",
       "999                           3.6  \n",
       "\n",
       "[1000 rows x 4 columns]"
      ]
     },
     "execution_count": 14,
     "metadata": {},
     "output_type": "execute_result"
    }
   ],
   "source": [
    "numerical_value = df.select_dtypes(exclude=\"object\")\n",
    "numerical_value"
   ]
  },
  {
   "cell_type": "code",
   "execution_count": 15,
   "id": "59c2be1a-24f0-46ba-9de6-b75decd677e5",
   "metadata": {},
   "outputs": [
    {
     "data": {
      "text/plain": [
       "<Axes: xlabel='Age'>"
      ]
     },
     "execution_count": 15,
     "metadata": {},
     "output_type": "execute_result"
    },
    {
     "data": {
      "image/png": "[encoded data removed]",
      "text/plain": [
       "<Figure size 640x480 with 1 Axes>"
      ]
     },
     "metadata": {},
     "output_type": "display_data"
    }
   ],
   "source": [
    "sns.boxplot(x=\"Age\",data=df)"
   ]
  },
  {
   "cell_type": "code",
   "execution_count": 16,
   "id": "1fd35e9d-9d43-4290-b0d2-b272a9b44721",
   "metadata": {},
   "outputs": [
    {
     "data": {
      "text/plain": [
       "<Axes: xlabel='Screen Time (hrs/day)'>"
      ]
     },
     "execution_count": 16,
     "metadata": {},
     "output_type": "execute_result"
    },
    {
     "data": {
      "image/png": "[encoded data removed]",
      "text/plain": [
       "<Figure size 640x480 with 1 Axes>"
      ]
     },
     "metadata": {},
     "output_type": "display_data"
    }
   ],
   "source": [
    "sns.boxplot(x=\"Screen Time (hrs/day)\",data=df)"
   ]
  },
  {
   "cell_type": "code",
   "execution_count": 17,
   "id": "7b137973-c057-422f-bd3e-9f77bb1aaf6a",
   "metadata": {},
   "outputs": [
    {
     "data": {
      "text/plain": [
       "<Axes: xlabel='Sleep Duration (hrs)'>"
      ]
     },
     "execution_count": 17,
     "metadata": {},
     "output_type": "execute_result"
    },
    {
     "data": {
      "image/png": "[encoded data removed]",
      "text/plain": [
       "<Figure size 640x480 with 1 Axes>"
      ]
     },
     "metadata": {},
     "output_type": "display_data"
    }
   ],
   "source": [
    "sns.boxplot(x=\"Sleep Duration (hrs)\",data=df)"
   ]
  },
  {
   "cell_type": "code",
   "execution_count": 18,
   "id": "3e231a11-f812-4ddf-bf10-2c3109488bf9",
   "metadata": {},
   "outputs": [
    {
     "data": {
      "text/plain": [
       "<Axes: xlabel='Physical Activity (hrs/week)'>"
      ]
     },
     "execution_count": 18,
     "metadata": {},
     "output_type": "execute_result"
    },
    {
     "data": {
      "image/png": "[encoded data removed]",
      "text/plain": [
       "<Figure size 640x480 with 1 Axes>"
      ]
     },
     "metadata": {},
     "output_type": "display_data"
    }
   ],
   "source": [
    "sns.boxplot(x=\"Physical Activity (hrs/week)\",data=df)"
   ]
  },
  {
   "cell_type": "markdown",
   "id": "463b146f-7f2a-4811-9aee-6eebdb6d6ac0",
   "metadata": {},
   "source": [
    "### Performing Exploratory Data Analysis(EDA)"
   ]
  },
  {
   "cell_type": "code",
   "execution_count": 19,
   "id": "e1625953-1871-4b1f-9527-dfa5be7b4145",
   "metadata": {},
   "outputs": [
    {
     "data": {
      "text/plain": [
       "Stress Level\n",
       "Medium    492\n",
       "Low       327\n",
       "High      181\n",
       "Name: count, dtype: int64"
      ]
     },
     "execution_count": 19,
     "metadata": {},
     "output_type": "execute_result"
    }
   ],
   "source": [
    "df['Stress Level'].value_counts()"
   ]
  },
  {
   "cell_type": "code",
   "execution_count": 22,
   "id": "e3cc6df7-9d07-4bca-992f-3273a79bc151",
   "metadata": {},
   "outputs": [
    {
     "data": {
      "image/png": "[encoded data removed]",
      "text/plain": [
       "<Figure size 1000x600 with 1 Axes>"
      ]
     },
     "metadata": {},
     "output_type": "display_data"
    }
   ],
   "source": [
    "plt.figure(figsize=(10, 6))\n",
    "sns.countplot(data=df, x='Stress Level', palette=['skyblue', 'salmon'])\n",
    "plt.title('Distribution of stress level')\n",
    "plt.xlabel('Stress Level')\n",
    "plt.grid(axis='y')\n",
    "plt.show()"
   ]
  },
  {
   "cell_type": "markdown",
   "id": "40819071-1b59-4d2c-bc73-94de5eae342f",
   "metadata": {},
   "source": [
    "Observation:\n",
    "\n",
    "           * The count plot indicates that the majority of students experience a medium level of stress."
   ]
  },
  {
   "cell_type": "markdown",
   "id": "74348b33-b01c-44c7-ae46-0681d8a97146",
   "metadata": {},
   "source": [
    "### Compare Stress level with Age"
   ]
  },
  {
   "cell_type": "code",
   "execution_count": 23,
   "id": "63980f9f-4f79-4c28-9a36-bb7b240e9dc9",
   "metadata": {},
   "outputs": [
    {
     "data": {
      "text/plain": [
       "array([15, 25, 20, 17, 23, 22, 16, 21, 18, 19, 26, 24])"
      ]
     },
     "execution_count": 23,
     "metadata": {},
     "output_type": "execute_result"
    }
   ],
   "source": [
    "df['Age'].unique()"
   ]
  },
  {
   "cell_type": "code",
   "execution_count": 37,
   "id": "f2fe1d67-9914-4951-b6f6-c4c196dbde40",
   "metadata": {},
   "outputs": [
    {
     "data": {
      "image/png": "[encoded data removed]",
      "text/plain": [
       "<Figure size 1200x600 with 1 Axes>"
      ]
     },
     "metadata": {},
     "output_type": "display_data"
    }
   ],
   "source": [
    "age_stress = df.groupby(['Age', 'Stress Level']).size().reset_index(name='Count')\n",
    "plt.figure(figsize=(12, 6))\n",
    "sns.barplot(data=age_stress, x='Age', y='Count', hue='Stress Level', palette='Set2')\n",
    "plt.title('Stress Level Distribution Across Ages')\n",
    "plt.xlabel('Age')\n",
    "plt.ylabel('Number of Students')\n",
    "plt.grid(axis='y')\n",
    "plt.show()"
   ]
  },
  {
   "cell_type": "markdown",
   "id": "c4078c4f-a743-4583-9ff6-8868bce2c8b7",
   "metadata": {},
   "source": [
    "Observation:\n",
    "\n",
    "          * The bar chart shows how stress levels vary across different ages:\n",
    "          * Stress level distribution is not uniform. C ertain ages (like 20–22) have a higher number of students with high or medium stress, indicating these ages might be more stressful possibly due to academic pressure or transition years.\n",
    "\n"
   ]
  },
  {
   "cell_type": "markdown",
   "id": "cf29464d-d6ea-44cf-ac7f-bd817925e82e",
   "metadata": {},
   "source": [
    "### Compare Stress level with Education Level"
   ]
  },
  {
   "cell_type": "code",
   "execution_count": 13,
   "id": "ee53f804-3f1d-4eed-bcb3-488655561b75",
   "metadata": {},
   "outputs": [
    {
     "data": {
      "image/png": "[encoded data removed]",
      "text/plain": [
       "<Figure size 1200x600 with 1 Axes>"
      ]
     },
     "metadata": {},
     "output_type": "display_data"
    }
   ],
   "source": [
    "edu_stress = df.groupby(['Education Level', 'Stress Level']).size().reset_index(name='Count')\n",
    "plt.figure(figsize=(12, 6))\n",
    "sns.barplot(data=edu_stress, x='Education Level', y='Count', hue='Stress Level', \n",
    "            palette={'Low': '#66c2a5', 'Medium': '#fc8d62', 'High': '#8da0cb'})  # Color palette\n",
    "plt.title('Stress Level Distribution by Education Level')\n",
    "plt.xlabel('Education Level')\n",
    "plt.ylabel('Number of Students')\n",
    "plt.grid(axis='y')\n",
    "plt.legend(title='Stress Level')\n",
    "plt.xticks(rotation=15)\n",
    "plt.tight_layout()\n",
    "plt.show()"
   ]
  },
  {
   "cell_type": "markdown",
   "id": "0a99d8a9-feb0-4fbf-9912-fa4bd740f0f4",
   "metadata": {},
   "source": [
    "Observation:\n",
    "\n",
    "           * Graduates and Postgraduates experience high and medium level of stress.\n",
    "           * High school students experience low level of stress.\n",
    "           "
   ]
  },
  {
   "cell_type": "markdown",
   "id": "acf3bbef-5da9-45d5-a6d5-609484652506",
   "metadata": {},
   "source": [
    "### Compare Stress level with Screen Time (hrs/day)"
   ]
  },
  {
   "cell_type": "code",
   "execution_count": 18,
   "id": "43d784dc-4a71-46ad-9562-253fd7e728ca",
   "metadata": {},
   "outputs": [
    {
     "data": {
      "image/png": "[encoded data removed]",
      "text/plain": [
       "<Figure size 1000x600 with 1 Axes>"
      ]
     },
     "metadata": {},
     "output_type": "display_data"
    }
   ],
   "source": [
    "plt.figure(figsize=(10, 6))\n",
    "sns.barplot(data=df, x='Stress Level', y='Screen Time (hrs/day)',\n",
    "            palette={'Low': '#66c2a5', 'Medium': '#fc8d62', 'High': '#8da0cb'})  \n",
    "plt.title('Screen Time Distribution Across Stress Levels')\n",
    "plt.xlabel('Stress Level')\n",
    "plt.ylabel('Screen Time (hrs/day)')\n",
    "plt.grid(axis='y')\n",
    "plt.tight_layout()\n",
    "plt.show()\n"
   ]
  },
  {
   "cell_type": "markdown",
   "id": "eb219f0c-d798-4530-88f1-41a5aff5c65a",
   "metadata": {},
   "source": [
    "Observation:\n",
    "\n",
    "          * High Stress Level students tend to have the highest average screen time.\n",
    "\n",
    "          * Medium and Low Stress Level students have moderate screen time.\n",
    "\n",
    "         "
   ]
  },
  {
   "cell_type": "markdown",
   "id": "5d921a1d-0e5f-483a-a3f3-35d1a1bd4ca0",
   "metadata": {},
   "source": [
    "### Compare Stress level with Sleep Duration (hrs)"
   ]
  },
  {
   "cell_type": "code",
   "execution_count": 20,
   "id": "696b270f-b3cb-49fd-b519-e39cbb32c5f2",
   "metadata": {},
   "outputs": [
    {
     "data": {
      "image/png": "[encoded data removed]",
      "text/plain": [
       "<Figure size 1000x600 with 1 Axes>"
      ]
     },
     "metadata": {},
     "output_type": "display_data"
    }
   ],
   "source": [
    "plt.figure(figsize=(10, 6))\n",
    "sns.barplot(data=df, x='Stress Level', y='Sleep Duration (hrs)',\n",
    "            palette={'Low': '#66c2a5', 'Medium': '#fc8d62', 'High': '#8da0cb'})  \n",
    "plt.title('Sleep hours Distribution Across Stress Levels')\n",
    "plt.xlabel('Stress Level')\n",
    "plt.ylabel('Sleep Duration (hrs)')\n",
    "plt.grid(axis='y')\n",
    "plt.tight_layout()\n",
    "plt.show()"
   ]
  },
  {
   "cell_type": "markdown",
   "id": "8516b44c-3949-4abe-a5a3-5c7ad5c6e7b3",
   "metadata": {},
   "source": [
    "Observation:\n",
    "            \n",
    "          * Students with Low Stress have the highest sleep duration.\n",
    "          "
   ]
  },
  {
   "cell_type": "markdown",
   "id": "352491b9-e1eb-406d-bf7f-d42d8808cadc",
   "metadata": {},
   "source": [
    "### Compare Stress level with Physical Activity (hrs/week)"
   ]
  },
  {
   "cell_type": "code",
   "execution_count": 23,
   "id": "f187bed4-cab5-4862-bac9-07d18f1a84ac",
   "metadata": {},
   "outputs": [
    {
     "data": {
      "image/png": "[encoded data removed]",
      "text/plain": [
       "<Figure size 1000x600 with 1 Axes>"
      ]
     },
     "metadata": {},
     "output_type": "display_data"
    }
   ],
   "source": [
    "plt.figure(figsize=(10, 6))\n",
    "sns.barplot(data=df, x='Stress Level', y='Physical Activity (hrs/week)',\n",
    "            palette={'Low': '#1b9e77', 'Medium': '#d95f02', 'High': '#7570b3'})  \n",
    "plt.title('Physical Activity by Stress Levels')\n",
    "plt.xlabel('Stress Level')\n",
    "plt.ylabel('Physical Activity (hrs/week)')\n",
    "plt.grid(axis='y')\n",
    "plt.tight_layout()\n",
    "plt.show()"
   ]
  },
  {
   "cell_type": "markdown",
   "id": "b3ba2c1e-34fc-4b94-8721-c489886c0df4",
   "metadata": {},
   "source": [
    "Observation:\n",
    "\n",
    "           * High Stress students show the more physical activity than Low stress students."
   ]
  },
  {
   "cell_type": "markdown",
   "id": "7cff6d66-3aee-4cf5-a818-bf626275c4e1",
   "metadata": {},
   "source": [
    "### Comapre Stress Level with Anxious Before Exam"
   ]
  },
  {
   "cell_type": "code",
   "execution_count": 8,
   "id": "7f998093-0621-41f5-9b91-e77ba8420990",
   "metadata": {},
   "outputs": [
    {
     "data": {
      "image/png": "[encoded data removed]",
      "text/plain": [
       "<Figure size 1000x600 with 1 Axes>"
      ]
     },
     "metadata": {},
     "output_type": "display_data"
    }
   ],
   "source": [
    "anxiety_stress = df.groupby(['Anxious Before Exams', 'Stress Level']).size().reset_index(name='Count')\n",
    "plt.figure(figsize=(10, 6))\n",
    "sns.barplot(data=anxiety_stress, x='Anxious Before Exams', y='Count', hue='Stress Level',\n",
    "            palette={'Low': '#66c2a5', 'Medium': '#fc8d62', 'High': '#8da0cb'})  \n",
    "plt.title('Stress Levels by Exam Anxiety')\n",
    "plt.xlabel('Anxious Before Exams')\n",
    "plt.ylabel('Number of Students')\n",
    "plt.grid(axis='y')\n",
    "plt.legend(title='Stress Level')\n",
    "plt.tight_layout()\n",
    "plt.show()\n"
   ]
  },
  {
   "cell_type": "markdown",
   "id": "c4af0466-5c3f-4e13-85e3-78786a584ee3",
   "metadata": {},
   "source": [
    "Observation:\n",
    "\n",
    "           * From the above graph we can see that\n",
    "           * Students who feel anxious before exams tend to have higher stress levels.\n",
    "           "
   ]
  },
  {
   "cell_type": "code",
   "execution_count": 4,
   "id": "ad0d08c4-d116-44b5-87d1-7822cf00afa4",
   "metadata": {},
   "outputs": [
    {
     "data": {
      "text/html": [
       "<div>\n",
       "<style scoped>\n",
       "    .dataframe tbody tr th:only-of-type {\n",
       "        vertical-align: middle;\n",
       "    }\n",
       "\n",
       "    .dataframe tbody tr th {\n",
       "        vertical-align: top;\n",
       "    }\n",
       "\n",
       "    .dataframe thead th {\n",
       "        text-align: right;\n",
       "    }\n",
       "</style>\n",
       "<table border=\"1\" class=\"dataframe\">\n",
       "  <thead>\n",
       "    <tr style=\"text-align: right;\">\n",
       "      <th></th>\n",
       "      <th>Age</th>\n",
       "      <th>Screen Time (hrs/day)</th>\n",
       "      <th>Sleep Duration (hrs)</th>\n",
       "      <th>Physical Activity (hrs/week)</th>\n",
       "    </tr>\n",
       "  </thead>\n",
       "  <tbody>\n",
       "    <tr>\n",
       "      <th>0</th>\n",
       "      <td>15</td>\n",
       "      <td>7.1</td>\n",
       "      <td>8.9</td>\n",
       "      <td>9.3</td>\n",
       "    </tr>\n",
       "    <tr>\n",
       "      <th>1</th>\n",
       "      <td>25</td>\n",
       "      <td>3.3</td>\n",
       "      <td>5.0</td>\n",
       "      <td>0.2</td>\n",
       "    </tr>\n",
       "    <tr>\n",
       "      <th>2</th>\n",
       "      <td>20</td>\n",
       "      <td>9.5</td>\n",
       "      <td>5.4</td>\n",
       "      <td>6.2</td>\n",
       "    </tr>\n",
       "    <tr>\n",
       "      <th>3</th>\n",
       "      <td>20</td>\n",
       "      <td>10.8</td>\n",
       "      <td>5.6</td>\n",
       "      <td>5.5</td>\n",
       "    </tr>\n",
       "    <tr>\n",
       "      <th>4</th>\n",
       "      <td>17</td>\n",
       "      <td>2.8</td>\n",
       "      <td>5.4</td>\n",
       "      <td>3.1</td>\n",
       "    </tr>\n",
       "    <tr>\n",
       "      <th>...</th>\n",
       "      <td>...</td>\n",
       "      <td>...</td>\n",
       "      <td>...</td>\n",
       "      <td>...</td>\n",
       "    </tr>\n",
       "    <tr>\n",
       "      <th>995</th>\n",
       "      <td>26</td>\n",
       "      <td>11.3</td>\n",
       "      <td>6.8</td>\n",
       "      <td>9.1</td>\n",
       "    </tr>\n",
       "    <tr>\n",
       "      <th>996</th>\n",
       "      <td>20</td>\n",
       "      <td>5.5</td>\n",
       "      <td>6.7</td>\n",
       "      <td>6.8</td>\n",
       "    </tr>\n",
       "    <tr>\n",
       "      <th>997</th>\n",
       "      <td>15</td>\n",
       "      <td>7.1</td>\n",
       "      <td>4.1</td>\n",
       "      <td>1.9</td>\n",
       "    </tr>\n",
       "    <tr>\n",
       "      <th>998</th>\n",
       "      <td>20</td>\n",
       "      <td>4.4</td>\n",
       "      <td>7.5</td>\n",
       "      <td>4.5</td>\n",
       "    </tr>\n",
       "    <tr>\n",
       "      <th>999</th>\n",
       "      <td>23</td>\n",
       "      <td>10.8</td>\n",
       "      <td>7.7</td>\n",
       "      <td>3.6</td>\n",
       "    </tr>\n",
       "  </tbody>\n",
       "</table>\n",
       "<p>1000 rows × 4 columns</p>\n",
       "</div>"
      ],
      "text/plain": [
       "     Age  Screen Time (hrs/day)  Sleep Duration (hrs)  \\\n",
       "0     15                    7.1                   8.9   \n",
       "1     25                    3.3                   5.0   \n",
       "2     20                    9.5                   5.4   \n",
       "3     20                   10.8                   5.6   \n",
       "4     17                    2.8                   5.4   \n",
       "..   ...                    ...                   ...   \n",
       "995   26                   11.3                   6.8   \n",
       "996   20                    5.5                   6.7   \n",
       "997   15                    7.1                   4.1   \n",
       "998   20                    4.4                   7.5   \n",
       "999   23                   10.8                   7.7   \n",
       "\n",
       "     Physical Activity (hrs/week)  \n",
       "0                             9.3  \n",
       "1                             0.2  \n",
       "2                             6.2  \n",
       "3                             5.5  \n",
       "4                             3.1  \n",
       "..                            ...  \n",
       "995                           9.1  \n",
       "996                           6.8  \n",
       "997                           1.9  \n",
       "998                           4.5  \n",
       "999                           3.6  \n",
       "\n",
       "[1000 rows x 4 columns]"
      ]
     },
     "execution_count": 4,
     "metadata": {},
     "output_type": "execute_result"
    }
   ],
   "source": [
    "num= df.select_dtypes(include='number')\n",
    "num"
   ]
  },
  {
   "cell_type": "code",
   "execution_count": 5,
   "id": "755b385d-ff17-40db-af7d-47b4090231f4",
   "metadata": {},
   "outputs": [
    {
     "data": {
      "text/html": [
       "<div>\n",
       "<style scoped>\n",
       "    .dataframe tbody tr th:only-of-type {\n",
       "        vertical-align: middle;\n",
       "    }\n",
       "\n",
       "    .dataframe tbody tr th {\n",
       "        vertical-align: top;\n",
       "    }\n",
       "\n",
       "    .dataframe thead th {\n",
       "        text-align: right;\n",
       "    }\n",
       "</style>\n",
       "<table border=\"1\" class=\"dataframe\">\n",
       "  <thead>\n",
       "    <tr style=\"text-align: right;\">\n",
       "      <th></th>\n",
       "      <th>Age</th>\n",
       "      <th>Screen Time (hrs/day)</th>\n",
       "      <th>Sleep Duration (hrs)</th>\n",
       "      <th>Physical Activity (hrs/week)</th>\n",
       "    </tr>\n",
       "  </thead>\n",
       "  <tbody>\n",
       "    <tr>\n",
       "      <th>Age</th>\n",
       "      <td>1.000000</td>\n",
       "      <td>0.008982</td>\n",
       "      <td>-0.010609</td>\n",
       "      <td>-0.033600</td>\n",
       "    </tr>\n",
       "    <tr>\n",
       "      <th>Screen Time (hrs/day)</th>\n",
       "      <td>0.008982</td>\n",
       "      <td>1.000000</td>\n",
       "      <td>0.011314</td>\n",
       "      <td>0.028464</td>\n",
       "    </tr>\n",
       "    <tr>\n",
       "      <th>Sleep Duration (hrs)</th>\n",
       "      <td>-0.010609</td>\n",
       "      <td>0.011314</td>\n",
       "      <td>1.000000</td>\n",
       "      <td>-0.013407</td>\n",
       "    </tr>\n",
       "    <tr>\n",
       "      <th>Physical Activity (hrs/week)</th>\n",
       "      <td>-0.033600</td>\n",
       "      <td>0.028464</td>\n",
       "      <td>-0.013407</td>\n",
       "      <td>1.000000</td>\n",
       "    </tr>\n",
       "  </tbody>\n",
       "</table>\n",
       "</div>"
      ],
      "text/plain": [
       "                                   Age  Screen Time (hrs/day)  \\\n",
       "Age                           1.000000               0.008982   \n",
       "Screen Time (hrs/day)         0.008982               1.000000   \n",
       "Sleep Duration (hrs)         -0.010609               0.011314   \n",
       "Physical Activity (hrs/week) -0.033600               0.028464   \n",
       "\n",
       "                              Sleep Duration (hrs)  \\\n",
       "Age                                      -0.010609   \n",
       "Screen Time (hrs/day)                     0.011314   \n",
       "Sleep Duration (hrs)                      1.000000   \n",
       "Physical Activity (hrs/week)             -0.013407   \n",
       "\n",
       "                              Physical Activity (hrs/week)  \n",
       "Age                                              -0.033600  \n",
       "Screen Time (hrs/day)                             0.028464  \n",
       "Sleep Duration (hrs)                             -0.013407  \n",
       "Physical Activity (hrs/week)                      1.000000  "
      ]
     },
     "execution_count": 5,
     "metadata": {},
     "output_type": "execute_result"
    }
   ],
   "source": [
    "correlation=num.corr()\n",
    "correlation"
   ]
  },
  {
   "cell_type": "code",
   "execution_count": 7,
   "id": "8e13afc6-768b-4520-ae5e-c83f37a581f2",
   "metadata": {},
   "outputs": [
    {
     "data": {
      "text/plain": [
       "<Axes: >"
      ]
     },
     "execution_count": 7,
     "metadata": {},
     "output_type": "execute_result"
    },
    {
     "data": {
      "image/png": "[encoded data removed]",
      "text/plain": [
       "<Figure size 1000x800 with 2 Axes>"
      ]
     },
     "metadata": {},
     "output_type": "display_data"
    }
   ],
   "source": [
    "plt.figure(figsize=(10,8))\n",
    "sns.heatmap(num.corr(),annot=True,linewidths=4,linecolor='k',cmap='PiYG')"
   ]
  },
  {
   "cell_type": "markdown",
   "id": "f90cf331-084f-4cb5-a523-74090d77ea73",
   "metadata": {},
   "source": [
    "Observation:\n",
    "\n",
    "            * Positive correlation between Sleep Duration and Physical Activity.\n",
    "            * Screen time have negative correlation with sleep duration and physical activity.\n",
    "\n",
    "     "
   ]
  },
  {
   "cell_type": "code",
   "execution_count": null,
   "id": "15352eb0-b0a0-4698-8f45-484e2cca1b3d",
   "metadata": {},
   "outputs": [],
   "source": [
    "\n"
   ]
  }
 ],
 "metadata": {
  "kernelspec": {
   "display_name": "Python 3 (ipykernel)",
   "language": "python",
   "name": "python3"
  },
  "language_info": {
   "codemirror_mode": {
    "name": "ipython",
    "version": 3
   },
   "file_extension": ".py",
   "mimetype": "text/x-python",
   "name": "python",
   "nbconvert_exporter": "python",
   "pygments_lexer": "ipython3",
   "version": "3.13.1"
  }
 },
 "nbformat": 4,
 "nbformat_minor": 5
}
